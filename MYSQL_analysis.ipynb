{
 "cells": [
  {
   "cell_type": "markdown",
   "id": "3b78e825",
   "metadata": {},
   "source": [
    "SELECT SUM(필드) FROM 테이블;\n",
    "> 해당 필드의 합계\n",
    "\n",
    "SELECT MAX(필드) FROM 테이블;\n",
    "> 해당 필드의 최댓값\n",
    "\n",
    "SELECT MIN(필드) FROM 테이블;\n",
    "> 해당 필드의 최솟값\n",
    "\n",
    "SELECT AVG(필드) FROM 테이블;\n",
    "> 해당 필드의 평균\n",
    "\n",
    "SELECT COUNT(*) FROM 테이블;\n",
    "> 해당 테이블의 전체 row 수\n",
    "\n",
    "SELECT 필드1,COUNT(*) FROM 테이블 GROUP BY 필드1;\n",
    "> 해당 테이블에서 그 필드에 따른 row의 수 -> 필드1 row의 갯수 출력\n",
    "\n",
    "SELECT DISTINCT provider FROM items;\n",
    "> 해당 테이블에서 특정 테이블값 출력시 중복된 값을 출력하지 않음\n",
    "\n",
    "SELECT 필드1 FROM 테이블 GROUP BY 필드1 HAVING COUNT(*) >= 100;\n",
    "> 해당 테이블1에서 필드1에 따라 필드1과 그 필드값1의 row의 갯수가 100개 이상인 것만 출력\n",
    "\n",
    "SELECT 필드1, COUNT(필드2) FROM 테이블1 GROUP BY 필드1 ORDER BY COUNT(필드2) DESC;\n",
    "> 해당 테이블1에서 필드1에 따라 필드1과 필드2의 row갯수가 출력되는데 필드2의 row갯수의 내림차순\n",
    "\n",
    "SELECT 필드1,COUNT(*) FROM 테이블1 WHERE 필드1 != '데이터값22' GROUP BY 필드1 HAVING COUNT(*) >= 100 ORDER BY COUNT(*) DESC;\n",
    "> 해당 테이블1에서 필드1에 따라 필드1과 전체 row의 갯수가 출력되는데 필드1의 데이터값22을 제외하고 전체 row의 갯수가 100개 이상이며 내림차순"
   ]
  },
  {
   "cell_type": "markdown",
   "id": "efad13a4",
   "metadata": {},
   "source": [
    "---"
   ]
  },
  {
   "cell_type": "markdown",
   "id": "365e1d1b",
   "metadata": {},
   "source": [
    "SELECT*FROM 테이블1 INNER JOIN 테이블2 ON 테이블2.외부키 = 테이블1.기본키  \n",
    "=SELECT*FROM 테이블1 a INNER JOIN 테이블2 b ON b.외부키 = a.기본키\n",
    "> 테이블1과 테이블2를 JOIN시켜 두개 테이블의 데이터값을 출력\n",
    "\n",
    "SELECT items.provider, COUNT(*) FROM ranking<br>\n",
    "INNER JOIN items ON items.item_code=ranking.item_code<br>\n",
    "WHERE ranking.main_category = 'ALL'<br>\n",
    "GROUP BY items.provider;\n",
    "> 전체 베스트상품(ALL 메인 카테고리)에서 판매자별 베스트상품 갯수 출력해보기\n",
    "\n",
    "SELECT items.provider,COUNT(*) FROM ranking<br> \n",
    "INNER JOIN items ON ranking.item_code=items.item_code<br> \n",
    "WHERE ranking.main_category = '패션의류'<br> \n",
    "GROUP BY items.provider<br>\n",
    "HAVING COUNT(*) >=5\n",
    "> 메인 카테고리가 패션의류인 서브 카테고리 포함, 패션의류 전체 베스트상품에서 판매자별 베스트상품 갯수가 5이상인 판매자와 베스트상품 갯수 출력해보기\n",
    "\n",
    "SELECT items.provider,COUNT(*) FROM ranking<br>\n",
    "INNER JOIN items ON items.item_code = ranking.item_code<br>\n",
    "WHERE ranking.main_category = '신발/잡화'<br>\n",
    "GROUP BY items.provider<br>\n",
    "HAVING COUNT(*) >= 10<br>\n",
    "ORDER BY COUNT(*) DESC\n",
    "> 메인 카테고리가 신발/잡화인 서브 카테고리 포함, 전체 베스트상품에서 판매자별 베스트상품 갯수가 10이상인 판매자와 베스트상품 갯수를 베스트상품 갯수 순으로 출력해보기\n",
    "\n",
    "SELECT AVG(dis_price) AS average, MAX(dis_price) AS maximum,<br> \n",
    "MIN(dis_price) AS minimum FROM ranking<br>\n",
    "INNER JOIN items ON ranking.item_code=items.item_code<br>\n",
    "WHERE main_category = '화장품/헤어'\n",
    "> 메인 카테고리가 화장품/헤어인 서브 카테고리 포함, 전체 베스트상품의 평균, 최대, 최소 가격 출력해보기"
   ]
  },
  {
   "cell_type": "markdown",
   "id": "0ae3a62f",
   "metadata": {},
   "source": [
    "---"
   ]
  },
  {
   "cell_type": "markdown",
   "id": "ffd9b4d4",
   "metadata": {},
   "source": [
    "SELECT ranking.main_category,COUNT(*) FROM items \n",
    "INNER JOIN ranking ON items.item_code=ranking.item_code<br>\n",
    "WHERE items.dis_price >= 100000<br>\n",
    "GROUP BY ranking.main_category<br> \n",
    "= SELECT main_category,COUNT(*) FROM ranking<br>\n",
    "WHERE item_code IN (SELECT item_code FROM items WHERE dis_price >= 100000)<br>\n",
    "GROUP BY main_category\n",
    "> 메인 카테고리별로 할인 가격이 10만원 이상인 상품이 몇개 있는지를 출력해보기\n",
    "\n",
    "SELECT ranking.main_category, ranking.sub_category,<br>\n",
    "AVG(items.dis_price), AVG(items.discount_percent) FROM items<br>\n",
    "INNER JOIN ranking ON items.item_code=ranking.item_code<br>\n",
    "GROUP BY ranking.main_category, ranking.sub_category\n",
    "> 메인 카테고리, 서브 카테고리에 대해, 평균할인가격과 평균할인율을 출력해보기 (다양한 SQL 문법 활용)\n",
    "\n",
    "판매자별, 베스트상품 갯수, 평균할인가격, 평균할인율을 베스트상품 갯수가 높은 순으로 출력해보기 (다양한 SQL 문법 활용)\n",
    "\n",
    "각 메인 카테고리에서 베스트 상품 갯수가 20개 이상인 판매자의 판매자별 평균할인가격, 평균할인율, 베스트 상품 갯수 출력해보기 (다양한 SQL 문법 활용)\n"
   ]
  },
  {
   "cell_type": "code",
   "execution_count": null,
   "id": "e524739a",
   "metadata": {},
   "outputs": [],
   "source": []
  }
 ],
 "metadata": {
  "kernelspec": {
   "display_name": "Python 3 (ipykernel)",
   "language": "python",
   "name": "python3"
  },
  "language_info": {
   "codemirror_mode": {
    "name": "ipython",
    "version": 3
   },
   "file_extension": ".py",
   "mimetype": "text/x-python",
   "name": "python",
   "nbconvert_exporter": "python",
   "pygments_lexer": "ipython3",
   "version": "3.9.7"
  }
 },
 "nbformat": 4,
 "nbformat_minor": 5
}
