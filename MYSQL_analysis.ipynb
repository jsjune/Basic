{
 "cells": [
  {
   "cell_type": "markdown",
   "id": "006b994f",
   "metadata": {},
   "source": [
    "SELECT SUM(필드) FROM 테이블;\n",
    "> 해당 필드의 합계\n",
    "\n",
    "SELECT MAX(필드) FROM 테이블;\n",
    "> 해당 필드의 최댓값\n",
    "\n",
    "SELECT MIN(필드) FROM 테이블;\n",
    "> 해당 필드의 최솟값\n",
    "\n",
    "SELECT AVG(필드) FROM 테이블;\n",
    "> 해당 필드의 평균\n",
    "\n",
    "SELECT COUNT(*) FROM 테이블;\n",
    "> 해당 테이블의 전체 row 수\n",
    "\n",
    "SELECT 필드1,COUNT(*) FROM 테이블 GROUP BY 필드1;\n",
    "> 해당 테이블에서 그 필드에 따른 row의 수 -> 필드1 row의 갯수 출력\n",
    "\n",
    "SELECT DISTINCT provider FROM items;\n",
    "> 해당 테이블에서 특정 테이블값 출력시 중복된 값을 출력하지 않음\n",
    "\n",
    "SELECT 필드1 FROM 테이블 GROUP BY 필드1 HAVING COUNT(*) >= 100;\n",
    "> 해당 테이블1에서 필드1에 따라 필드1과 그 필드값1의 row의 갯수가 100개 이상인 것만 출력\n",
    "\n",
    "SELECT 필드1, COUNT(필드2) FROM 테이블1 GROUP BY 필드1 ORDER BY COUNT(필드2) DESC;\n",
    "> 해당 테이블1에서 필드1에 따라 필드1과 필드2의 row갯수가 출력되는데 필드2의 row갯수의 내림차순\n",
    "\n",
    "SELECT 필드1,COUNT(*) FROM 테이블1 WHERE 필드1 != '데이터값22' GROUP BY 필드1 HAVING COUNT(*) >= 100 ORDER BY COUNT(*) DESC;\n",
    "> 해당 테이블1에서 필드1에 따라 필드1과 전체 row의 갯수가 출력되는데 필드1의 데이터값22을 제외하고 전체 row의 갯수가 100개 이상이며 내림차순"
   ]
  },
  {
   "cell_type": "markdown",
   "id": "320147fe",
   "metadata": {},
   "source": [
    "---"
   ]
  },
  {
   "cell_type": "markdown",
   "id": "1cdb8b7b",
   "metadata": {},
   "source": [
    "SELECT*FROM 테이블1 INNER JOIN 테이블2 ON 테이블2.외부키 = 테이블1.기본키\n",
    "> 테이블1과 테이블2를 JOIN시켜 두개 테이블의 데이터값을 출력\n"
   ]
  },
  {
   "cell_type": "code",
   "execution_count": null,
   "id": "2a9ef441",
   "metadata": {},
   "outputs": [],
   "source": []
  }
 ],
 "metadata": {
  "kernelspec": {
   "display_name": "Python 3 (ipykernel)",
   "language": "python",
   "name": "python3"
  },
  "language_info": {
   "codemirror_mode": {
    "name": "ipython",
    "version": 3
   },
   "file_extension": ".py",
   "mimetype": "text/x-python",
   "name": "python",
   "nbconvert_exporter": "python",
   "pygments_lexer": "ipython3",
   "version": "3.9.7"
  }
 },
 "nbformat": 4,
 "nbformat_minor": 5
}
