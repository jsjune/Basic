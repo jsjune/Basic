{
 "cells": [
  {
   "cell_type": "markdown",
   "id": "485ce6be",
   "metadata": {},
   "source": [
    "# &#60;pymysql&#62; "
   ]
  },
  {
   "cell_type": "markdown",
   "id": "aa3c485e",
   "metadata": {},
   "source": [
    "`import pymysql`\n",
    ">- pymysql 라이브러리 가져오기\n",
    "\n",
    "`db = pymysql.connect(host='localhost', port=3306, user='root',passwd='mysql비번', db='ecommerce', charset='utf8')`\n",
    ">+ 접속하기\n",
    "    * pymysql.connect() 메소드를 사용하여 MySQL에 연결\n",
    "         - 호스트명, 포트, 로그인, 암호, 접속할 DB 등을 파라미터로 지정\n",
    "         - 주요 파라미터\n",
    "           - host : 접속할 mysql server 주소\n",
    "           - port : 접속할 mysql server 의 포트 번호\n",
    "           - user : mysql ID\n",
    "           - passwd : mysql ID의 암호\n",
    "           - db : 접속할 데이터베이스\n",
    "           - charset='utf8' : mysql에서 select하여 데이타를 가져올 때 한글이 깨질 수 있으므로 연결 설정에 넣어줌\n",
    "       \n",
    "`ecommerce = db.cursor()`\n",
    ">- 커서 가져오기\n",
    "    - MySQL 접속이 성공하면, Connection 객체로부터 cursor() 메서드를 호출하여 Cursor 객체를 가져옴\n",
    "\n",
    "```\n",
    "sql = \"\"\"\n",
    "    CREATE TABLE product (\n",
    "        PRODUCT_CODE VARCHAR(20) NOT NULL,\n",
    "        TITLE VARCHAR(200) NOT NULL,\n",
    "        ORI_PRICE INT,\n",
    "        DISCOUNT_PRICE INT,\n",
    "        DISCOUNT_PERCENT INT,\n",
    "        DELIVERY VARCHAR(2),\n",
    "        PRIMARY KEY(PRODUCT_CODE)\n",
    "    );\n",
    "\"\"\"\n",
    "```\n",
    ">* SQL(테이블생성,데이터삽입) 구문 만들기\n",
    "            \n",
    "`ecommerce.execute(sql)`\n",
    ">- SQL 구문 실행\n",
    "    - Cursor 객체의 execute() 메서드를 사용하여 SQL 문장을 DB 서버에 전송\n",
    "\n",
    "`db.commit()`\n",
    ">- DB에 Complete 하기\n",
    "    - 삽입, 갱신, 삭제 등이 모두 끝났으면 Connection 객체의 commit() 메서드를 사용하여 데이타를 Commit\n",
    "\n",
    "`db.close()`\n",
    ">- DB 연결 닫기\n",
    "    - Connection 객체의 close() 메서드를 사용하여 DB 연결을 닫음"
   ]
  }
 ],
 "metadata": {
  "kernelspec": {
   "display_name": "Python 3 (ipykernel)",
   "language": "python",
   "name": "python3"
  },
  "language_info": {
   "codemirror_mode": {
    "name": "ipython",
    "version": 3
   },
   "file_extension": ".py",
   "mimetype": "text/x-python",
   "name": "python",
   "nbconvert_exporter": "python",
   "pygments_lexer": "ipython3",
   "version": "3.9.7"
  }
 },
 "nbformat": 4,
 "nbformat_minor": 5
}
