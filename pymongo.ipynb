{
 "cells": [
  {
   "cell_type": "markdown",
   "id": "f43e4682",
   "metadata": {},
   "source": [
    "## 1. 연결하기 "
   ]
  },
  {
   "cell_type": "markdown",
   "id": "007c1607",
   "metadata": {},
   "source": [
    "**import pymongo**<br>\n",
    "**connection = pymongo.MongoClient()**<br>\n",
    "괄호에 공백으로 하면 -> (mongo_server, 27017)"
   ]
  },
  {
   "cell_type": "markdown",
   "id": "3ad46bce",
   "metadata": {},
   "source": [
    "## 2. knowledge Database 사용하기(없으면 만들어진다.)"
   ]
  },
  {
   "cell_type": "markdown",
   "id": "e3ff1978",
   "metadata": {},
   "source": [
    "**db = connection.knowledge**  - db변수는 바꿔도 된다.<br>\n",
    "**db = connection[\"knowledge\"]**  - 이렇게도 가능하다."
   ]
  },
  {
   "cell_type": "markdown",
   "id": "718dea42",
   "metadata": {},
   "source": [
    "## 3. it 라는 collection 사용하기(없으면 만들어진다.)"
   ]
  },
  {
   "cell_type": "markdown",
   "id": "12d714d8",
   "metadata": {},
   "source": [
    "import pymongo<br>\n",
    "conn = pymongo.MongoClient()<br>\n",
    "knowledge = conn.knowledge<br>\n",
    "\n",
    "**knowledge_it = knowledge.it**  \n",
    "**knowledge_it = knowledge[\"it\"]**  - 이렇게도 가능하다<br>\n",
    "**knowledge_it** - 데이터를 넣어야 리스트에서 볼 수 있다"
   ]
  },
  {
   "cell_type": "markdown",
   "id": "6de4dc6f",
   "metadata": {},
   "source": [
    "## 4. Document INSERT 하기"
   ]
  },
  {
   "cell_type": "markdown",
   "id": "0d8907d9",
   "metadata": {},
   "source": [
    "* insert_one()\n",
    "    - mongodb shell 명령어 : insertOne()\n",
    "    \n",
    "> **post = {\"author\": \"Mike\", \"text\": \"My first blog post!\", \"tags\": [\"mongodb\", \"python\", \"pymongo\"] }**<br>\n",
    "knowledge_it.insert_one(post) # ()안에 데이터를 직접 넣어도 된다\n"
   ]
  },
  {
   "cell_type": "markdown",
   "id": "8206f713",
   "metadata": {},
   "source": [
    "- insert_many()\n",
    "\n",
    "`\n",
    "knowledge_it.insert_many(\n",
    "    [\n",
    "        { \"author\":\"Dave Ahn\", \"age\":25 },\n",
    "        { \"author\":\"Dave\", \"age\":35 }\n",
    "    ]\n",
    ")\n",
    "`"
   ]
  },
  {
   "cell_type": "markdown",
   "id": "dcaba451",
   "metadata": {},
   "source": [
    "- Document INSERT 하면, _id (primary key)를 확인하는 방법\n",
    "\n",
    ">post = {\"author\": \"Dave\", \"text\": \"My first blog post!\"}<br>\n",
    "post_id = knowledge_it.insert_one(post)<br>\n",
    "post_id<br>\n",
    "**post_id.inserted_id**"
   ]
  },
  {
   "cell_type": "markdown",
   "id": "315299c4",
   "metadata": {},
   "source": [
    "- list와 dictionary를 활용하여 insert 하기\n",
    "    - 리스트 객체 삽입 가능\n",
    "    \n",
    "`\n",
    "knowledge_it.insert_one({'title':'암살','castings':['이정재','전지현','하정우']})\n",
    "knowledge_it.insert_one(\n",
    "    {\n",
    "        'title':'실미도',\n",
    "        'castings':['설경구','안성기'],\n",
    "        'datetime':\n",
    "        {\n",
    "            'year':'2003',\n",
    "            'month':3,\n",
    "            'cal':\n",
    "            {\n",
    "                'a':\n",
    "                {\n",
    "                    'b':1\n",
    "                }\n",
    "            }\n",
    "        }\n",
    "    }\n",
    ")\n",
    "`\n",
    "\n",
    ">**data = list()<br> \n",
    "data.append({'name' : 'aaron', 'age' : 20})<br>\n",
    "data.append({'name' : 'bob', 'age' : 30})<br>\n",
    "data.append({'name' : 'cathy', 'age' : 25})<br>\n",
    "data.append({'name' : 'david', 'age' : 27})<br>\n",
    "data.append({'name' : 'erick', 'age' : 28})<br>\n",
    "data.append({'name' : 'fox', 'age' : 32})<br>\n",
    "data.append({'name' : 'hmm'})**<br>\n",
    "knowledge_it.insert_many(data)"
   ]
  },
  {
   "cell_type": "markdown",
   "id": "6b9db11f",
   "metadata": {},
   "source": [
    "## 5. Document 검색하기( 읽기 )( find_one() 과 find() )"
   ]
  },
  {
   "cell_type": "markdown",
   "id": "dd8a343c",
   "metadata": {},
   "source": [
    "- find_one() 메서드 : 가장 빨리 검색되는 하나 검색하기(가장 상단)\n",
    "- find_one( 안에 조건을 넣을 때는 사전 형식으로 해야 한다. {키:값} )\n",
    "\n",
    "> **knowledge_it.find_one()<br>\n",
    "dave = knowledge_it.find_one( {\"author\":\"Dave\"})<br>\n",
    "dave**"
   ]
  },
  {
   "cell_type": "markdown",
   "id": "cb1092fc",
   "metadata": {},
   "source": [
    "- find() 메서드 : 검색되는 모든 Document 읽어오기\n",
    "\n",
    "> **docs = knowledge_it.find()<br>\n",
    "for doc in docs:<br>\n",
    "&#160;&#160;&#160;&#160;print(doc)**\n",
    "\n",
    "> **docs = knowledge_it.find( {\"author\":\"Dave\"} )<br>\n",
    "for doc in docs:<br>\n",
    "&#160;&#160;&#160;&#160;print(doc)**"
   ]
  },
  {
   "cell_type": "markdown",
   "id": "23f88f66",
   "metadata": {},
   "source": [
    "* count_documents() 함수로 조건에 맍는 검색 데이터 갯수 알아내기\n",
    "\n",
    "> **knowledge_it.count_documents({})<br>\n",
    "knowledge_it.count_documents({\"author\":\"Dave\"})**    "
   ]
  },
  {
   "cell_type": "markdown",
   "id": "5b58ef53",
   "metadata": {},
   "source": [
    "- sort()와 함께 쓰기 (순차로 정렬)\n",
    "\n",
    ">**for post in knowledge_it.find().sort(\"age\",1): 오름차순<br>\n",
    "&#160;&#160;&#160;&#160;print(post)<br>\n",
    "for post in knowledge_it.find().sort(\"age\",-1): 내림차순<br>\n",
    "&#160;&#160;&#160;&#160;print(post)**\n"
   ]
  },
  {
   "cell_type": "markdown",
   "id": "b6df881c",
   "metadata": {},
   "source": [
    "## 6. Document Update 하기 ( update_one()과 update_many() )"
   ]
  },
  {
   "cell_type": "markdown",
   "id": "b93c3b49",
   "metadata": {},
   "source": [
    "- update_one(): 가장 먼저 검색되는 한 Document만 수정하기(가장 상단)\n",
    "\n",
    "`\n",
    "knowledge_it.find_one( {\"author\":\"Dave\"} )\n",
    "`<br>\n",
    "`\n",
    "knowledge_it.update_one( { \"author\":\"Dave\" },\n",
    "    { \"$set\" :\n",
    "        {\"text\" : \"Hi Dave\"}\n",
    "    }\n",
    ")\n",
    "`"
   ]
  },
  {
   "cell_type": "markdown",
   "id": "f4f0d7d0",
   "metadata": {},
   "source": [
    "- update_many(): 조건에 맞는 모든 Document 수정하기\n",
    "    - 모든 Dave Lee를 Dave로 바꾸고 나이를 30으로 바꾼다\n",
    "     \n",
    "`\n",
    "knowledge_it.update_many( {\"author\":\"Dave Lee\"},\n",
    "     {\"$set\":\n",
    "          {\"author\":\"Dave\",\"age\":30}\n",
    "     } \n",
    ")\n",
    "`"
   ]
  },
  {
   "cell_type": "markdown",
   "id": "6472cb5f",
   "metadata": {},
   "source": [
    "## 7. Document 삭제 하기 ( delete_one() 과 delete_many() )"
   ]
  },
  {
   "cell_type": "markdown",
   "id": "bbd29391",
   "metadata": {},
   "source": [
    "- delete_one() 메서드 : 가장 먼저 검색되는 한 Document만 삭제하기(가장 상단)\n",
    "> **knowledge_it.delete_one( {\"author\":\"Dave\"} )**"
   ]
  },
  {
   "cell_type": "markdown",
   "id": "42734472",
   "metadata": {},
   "source": [
    "- delete_many() 메서드 : 조건에 맞는 모든 Document 삭제하기\n",
    "> **knowledge_it.delete_many( {\"author\":\"Dave\"} )**"
   ]
  }
 ],
 "metadata": {
  "kernelspec": {
   "display_name": "Python 3 (ipykernel)",
   "language": "python",
   "name": "python3"
  },
  "language_info": {
   "codemirror_mode": {
    "name": "ipython",
    "version": 3
   },
   "file_extension": ".py",
   "mimetype": "text/x-python",
   "name": "python",
   "nbconvert_exporter": "python",
   "pygments_lexer": "ipython3",
   "version": "3.9.7"
  }
 },
 "nbformat": 4,
 "nbformat_minor": 5
}
