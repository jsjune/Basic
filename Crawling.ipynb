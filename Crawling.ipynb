{
 "cells": [
  {
   "cell_type": "markdown",
   "id": "928c143f",
   "metadata": {},
   "source": [
    "# &#60;HTML 기본구조&#62; \n",
    "[HTML 태그정보](https://developer.mozilla.org/ko/docs/Web/HTML/Element)"
   ]
  },
  {
   "cell_type": "markdown",
   "id": "fb65d324",
   "metadata": {},
   "source": [
    "```\n",
    "    <!DCOTYPE html> 1.이문서는 HTML 언어를 사용\n",
    "    <html> 2,여기서 부터 HTML 문서 시작\n",
    "        <head> 3.문서 전체 정보 (예,제목)\n",
    "        </head>\n",
    "        <body> 4.문서 실제 내용시작\n",
    "        </body>\n",
    "    </html>\n",
    "```\n",
    "    HTML 태그는 중첩이 가능하다. 태그는 다른 태그에 소속되거나 다른 태그를 포함할 수 있다."
   ]
  },
  {
   "cell_type": "markdown",
   "id": "7619f265",
   "metadata": {},
   "source": [
    "# &#60;Crawling_Py&#62;\n"
   ]
  },
  {
   "cell_type": "markdown",
   "id": "bce5a5c4",
   "metadata": {},
   "source": [
    "### - 필요 라이브러리\n",
    "    * requests\n",
    "        - 웹페이지 가져오기 라이브러리  \n",
    "    * bs4(BeautifulSoup)\n",
    "        - 웹페이지 분석(크롤링) 라이브러리"
   ]
  },
  {
   "cell_type": "markdown",
   "id": "4362c439",
   "metadata": {},
   "source": [
    "### - 라이브러리 임포트\n",
    "```\n",
    "    import requests  \n",
    "    from bs4 import BeautifulSoup\n",
    "```\n",
    "\n",
    "### - 웹페이지 가져오기\n",
    "    - res 객체에 HTML 데이터가 저장되고, res.content로 데이터를 추출할 수 있음\n",
    "```\n",
    "    res = requests.get('웹페이지')\n",
    "```\n",
    "\n",
    "### - 웹페이지 파싱하기(문자열의 의미 분석)\n",
    "    - soup에 HTML파일을 파싱한 정보가 들어감\n",
    "```\n",
    "    soup = BeautifulSoup(res.content,'html.parser')\n",
    "```\n",
    "\n",
    "### - 필요한 데이터 추출하기\n",
    "```\n",
    "    mydata = soup.find('필요한 데이터') \n",
    "```\n",
    "\n",
    "### - 추출한 데이터 활용하기\n",
    "```\n",
    "    print(mydata.get_text())\n",
    "```"
   ]
  },
  {
   "cell_type": "markdown",
   "id": "f177c094",
   "metadata": {},
   "source": [
    "### * find와 select 차이점\n",
    "##### find\n",
    "    1. find('태그')\n",
    "    2. find('태그', class_='를래스이름')\n",
    "    3. find('태그', '클래스이름')\n",
    "    4. find(id='id이름')\n",
    "    5. find('태그',attrs = {'속성이름':'속성값'})\n",
    "\n",
    "##### select\n",
    "    1. select('태그')\n",
    "    2. select('태그 하위태그 더하위태그') 하위 태그 순으로\n",
    "    3. select('태그>하위태그') 바로 아래있는 태그\n",
    "    4. select('.클래스이름') \n",
    "    5. select('#id이름')\n",
    "    6. select('태그.클래스이름1.클래스이름2...')\n",
    "    - 복합예제 : select('태그#id이름 하위태그.클래스이름')  \n",
    "\n",
    "    select_one과 find가 비슷하고 -> 추출된 태그들 중에 첫번째 값만 반환  \n",
    "    select와 find_all이 비슷하다 -> 추출된 태그들을 모두 담아 해당 리스트로 반환\n"
   ]
  },
  {
   "cell_type": "markdown",
   "id": "6d03b955",
   "metadata": {},
   "source": [
    "###  * 데이터 전처리\n",
    "    - 추출해온 데이터를 원하는 스타일로 추출함\n",
    "    - split() : ()안에 지정한 옵션을 기준으로 분리한뒤 각 각을 리스트에 넣는다.\n",
    "    - strip() : 문자열 앞뒤로 공백 등을 없애줌"
   ]
  },
  {
   "cell_type": "markdown",
   "id": "add8815b",
   "metadata": {},
   "source": [
    "### 크롤링해서 <엑셀 파일>로 만들기\n",
    "    * openpyxl 라이브러리 활용\n",
    "      - xlsx 파일 읽고, 저장 모두 가능"
   ]
  },
  {
   "cell_type": "markdown",
   "id": "b1d37d55",
   "metadata": {},
   "source": [
    "    `import openpyxl` \n",
    "    - 라이브러리 임포트\n",
    "\n",
    "    `excel_file = openpyxl.Workbook()` \n",
    "    - Workbook()으로 엑셀 파일 생성\n",
    "\n",
    "    `excel_sheet = excel_file.active`\n",
    "    - 엑셀 파일이 생성되면 디폴트 쉬트가 생성되며, 엑셀파일변수.active 로 해당 쉬트를 선택할 수 있음\n",
    "\n",
    "    `excel_sheet.title = '리포트'`\n",
    "    - 해당 쉬트 이름을 변경하려면 title 변수값을 변경해주면 됨\n",
    "\n",
    "    `excel_sheet.append(['data1', 'data2', 'data3'])`\n",
    "    - 데이터 추가하기\n",
    "        - 가장 간단한 방법으로 엑셀파일변수.append(리스트 형태의 하나의 행 데이터) 를 사용하여, 한 줄의 데이터 묶음을 쓸 수 있음\n",
    "    \n",
    "    `excel_file.save('tmp.xlsx')`\n",
    "    - 엑셀 파일 저장\n",
    "\n",
    "    `excel_file.close()`\n",
    "    - 엑셀 파일 닫기"
   ]
  },
  {
   "cell_type": "markdown",
   "id": "8e5df2b0",
   "metadata": {},
   "source": [
    "### <엑셀 파일> 읽기\n",
    "\n",
    "`import openpyxl`\n",
    "- 라이브러리 임포트\n",
    "\n",
    "`excel_file = openpyxl.load_workbook('파일명.xlsx')`\n",
    "- 엑셀 파일 오픈 ( load_workbook() )\n",
    "\n",
    "`excel_file.sheetnames`\n",
    "- 해당 엑셀 파일 안에 있는 쉬트 이름 확인하기 \n",
    "\n",
    "`excel_sheet = excel_file[\"쉬트이름\"]`\n",
    "- 해당 엑셀 파일 안에 있는 특정 쉬트 선택하기  \n",
    "\n",
    "`for item in excel_sheet.rows:\n",
    "    print(item[0].value, item[1].value)`\n",
    "- 쉬트 안에 있는 데이터 읽기\n",
    "    - item 에는 한 라인의 각 셀에 있는 데이터를 가져옴\n",
    "    - 각 데이터는 각 리스트 아이템의 value 변수로부터 실제 데이터를 가져올 수 있음\n"
   ]
  },
  {
   "cell_type": "code",
   "execution_count": null,
   "id": "b4f7c2b4",
   "metadata": {},
   "outputs": [],
   "source": []
  }
 ],
 "metadata": {
  "kernelspec": {
   "display_name": "Python 3 (ipykernel)",
   "language": "python",
   "name": "python3"
  },
  "language_info": {
   "codemirror_mode": {
    "name": "ipython",
    "version": 3
   },
   "file_extension": ".py",
   "mimetype": "text/x-python",
   "name": "python",
   "nbconvert_exporter": "python",
   "pygments_lexer": "ipython3",
   "version": "3.9.7"
  }
 },
 "nbformat": 4,
 "nbformat_minor": 5
}
