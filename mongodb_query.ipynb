{
 "cells": [
  {
   "cell_type": "markdown",
   "id": "26d588a2",
   "metadata": {},
   "source": [
    "# mongodb_robo3T"
   ]
  },
  {
   "cell_type": "markdown",
   "id": "f7f58efa",
   "metadata": {},
   "source": [
    "- show dbs : 전체 데이터베이스 열람<br>\n",
    "- use 'DB이름' : 데이터베이스 선택(없으면 데이터베이스 생성)<br>\n",
    "- show collections : 선택된 데이터베이스의 콜렉션 열람\n",
    "- db.'collection이름'.함수()로 해당 컬렉션의 데이터 열람 및 조작\n",
    "    - db.createCollection(\"collection이름\") : collection 생성\n",
    "        - db.createCollection(\"collection이름\",{capped:true,size:10000})\n",
    "            -capped:true : 최초 제한된 크기로 생성된 공간에서만 데이터를 저장하는 설정<br>(고성능, 저장공간차면 기존 공간 재사용, 일정시간만 저장하는 로그에 적합)\n",
    "    - db.'기존이름'.renameCollection('새로운이름') : 이름변경\n",
    "    - db.'collection이름'.drop() : 삭제  "
   ]
  },
  {
   "cell_type": "markdown",
   "id": "9d9b29c8",
   "metadata": {},
   "source": [
    "## &#60;mongodb 데이터 입력/검색/수정/삭제 (CRUD)&#62;"
   ]
  },
  {
   "cell_type": "markdown",
   "id": "b5a387b9",
   "metadata": {},
   "source": [
    "### **- Document 입력 : insertOne, insertMany**\n",
    "- db.'이름'.insertOne() : 한개의 document 생성\n",
    "    - 예) db.people.insertOne({name:\"이름\", age:나이, gender:\"성별\"})\n",
    "- db.'이름'.insertMany() : list of document 생성\n",
    "    - 예)\n",
    "        <pre>\n",
    "        db.people.insertOne(\n",
    "            [\n",
    "                {name:\"이름\", age:나이, gender:\"성별\"},\n",
    "                {name:\"이름\", age:나이, gender:\"성별\"},\n",
    "                {name:\"이름\", age:나이, gender:\"성별\"}\n",
    "            ]\n",
    "        )\n",
    "        </pre>"
   ]
  },
  {
   "cell_type": "markdown",
   "id": "5b38f1e3",
   "metadata": {},
   "source": [
    "### **- Document 읽기 : findOne, find**\n",
    "- db.'이름'.findOne() : 매칭되는 한개의 document 검색 (첫번째 저장된 document 검색)\n",
    "- db.'이름'.find() : 매칭되는 list of document 검색<br>\n",
    "\n",
    "예시)<br>\n",
    "A) employees Collection 에서 user_id 가 bcd002 인 Document의 user_id, age, status, _id 출력<br>\n",
    "B) employees Collection 에서 user_id 가 bcd003 인 Document의 user_id, age, status 출력<br>\n",
    "C) employees Collection 에서 user_id 가 bcd004 이거나, age가 28인 Document 의 모든 필드 출력<br>\n",
    "\n",
    "---  \n",
    "<pre>\n",
    "A) db.employees.find({user_id:\"bcd002\"},{user_id:1,age:1,status:1,_id:1)\n",
    "    = db.employees.find({user_id:\"bcd002\"})\n",
    "B) db.employees.find({user_id:\"bcd003\"},{user_id:1,age:1,status:1,_id:0})\n",
    "C) db.employees.find({$or:[{user_id:\"bcd004\"},{age:28}]})\n",
    "</pre>            "
   ]
  },
  {
   "cell_type": "markdown",
   "id": "0ed5c68b",
   "metadata": {},
   "source": [
    "|비교 문법| 수학적 기호 | 의미 |\n",
    "|:---|:---:|:---|\n",
    "| &#36;eq | = | 같다 |    \n",
    "| &#36;gt | > | 초과 |    \n",
    "| &#36;gte | >= | 이상 |   \n",
    "| &#36;in | . | 키의 값이 ㅁㅁㅁ인 경우 |          \n",
    "| &#36;lt | < | 미만 |    \n",
    "| &#36;lte | <= | 이하 |   \n",
    "| &#36;ne | != | . |   \n",
    "| &#36;nin | . | 키의 값이 ㅁㅁㅁ가 아닌 경우 |         "
   ]
  },
  {
   "cell_type": "markdown",
   "id": "cc324a53",
   "metadata": {},
   "source": [
    "예시)<br>\n",
    "A) age 가 20 보다 큰 Document 의 user_id 만 출력하기<br>\n",
    "B) age 가 50 이고 status 가 A 인 Document 의 user_id 만 출력하기<br>\n",
    "C) age 가 60 보다 작은 Document 의 user_id 와 age 출력하기<br>\n",
    "D) user_id 종류 출력하기<br>\n",
    "E) user_id 가 bcd 로 시작하는 전체 Document 출력하기\n",
    "\n",
    "---\n",
    "<pre>\n",
    "A) db.employees.find({age: {$gt:20}},{user_id:1,_id:0})\n",
    "B) db.employees.find({age:{$eq:50},status:\"A\"},{user_id:1,_id:0})\n",
    "C) db.employees.find({age:{$lt:60}},{user_id:1,age:1,_id:0})\n",
    "D) db.employees.distinct(\"user_id\")\n",
    "E) db.employees.find({user_id:/^bcd/})\n",
    "</pre>\n"
   ]
  },
  {
   "cell_type": "markdown",
   "id": "8832a412",
   "metadata": {},
   "source": [
    "### **- Document 수정 : updateOne, updateMany**\n",
    "- 수정 문법\n",
    "<pre>\n",
    "db.'이름'.updateMany(                  <- collection\n",
    "    { age: { $lt: 18} }.                   <- update filter\n",
    "    { $set: { status: \"reject\" } }     <- update action\n",
    ") \n",
    "<pre>\n",
    "- db.'이름'.updateOne() : 매칭되는 한개의 document 수정\n",
    "- db.'이름'.updateMany() : 매칭되는 list of document 수정\n",
    "    - &#36;set : field 값 설정\n",
    "    - &#36;inc : field 값을 증가시키거나, 감소시킴\n",
    "        - 예 : &#36;inc : { age: 2 } age 값을 본래의 값에서 2 증가 \n",
    "        - 예 : &#36;inc : { age: -2 } age 값을 본래의 값에서 2 감소\n",
    "            \n",
    "예시)<br>\n",
    "A) age 가 40 보다 큰 Document 의 status 를 B 로 변환하기\n",
    "\n",
    "---\n",
    "<pre>\n",
    "A) db.employees.updateMany(\n",
    "    {age:{$gt:40}},\n",
    "    {$set:{status:\"B\"}}\n",
    "    )\n",
    "</pre>        \n",
    "            "
   ]
  },
  {
   "cell_type": "markdown",
   "id": "a6f6c445",
   "metadata": {},
   "source": [
    "### **- Document 삭제 : removeOne, removeMany**\n",
    "- 삭제 문법\n",
    "<pre>\n",
    "db.'이름'.deleteMany(        <- collection\n",
    "    { status: \"reject\" }         <- delete filter\n",
    ")\n",
    "</pre>\n",
    "- db.'이름'.removeOne() : 매칭되는 한개의 document 삭제\n",
    "- db.'이름'.removeMany() : 매칭되는 list of document 삭제\n",
    "    \n",
    "예시)<br>\n",
    "A) age 가 30 보다 작은 Document 삭제하기\n",
    "\n",
    "---\n",
    "<pre>\n",
    "A) db.employees.deleteMany(\n",
    "    {age:{$lt:30}}\n",
    ")\n",
    "</pre>"
   ]
  },
  {
   "cell_type": "code",
   "execution_count": null,
   "id": "9a8a9009",
   "metadata": {},
   "outputs": [],
   "source": []
  }
 ],
 "metadata": {
  "kernelspec": {
   "display_name": "Python 3 (ipykernel)",
   "language": "python",
   "name": "python3"
  },
  "language_info": {
   "codemirror_mode": {
    "name": "ipython",
    "version": 3
   },
   "file_extension": ".py",
   "mimetype": "text/x-python",
   "name": "python",
   "nbconvert_exporter": "python",
   "pygments_lexer": "ipython3",
   "version": "3.9.7"
  }
 },
 "nbformat": 4,
 "nbformat_minor": 5
}
